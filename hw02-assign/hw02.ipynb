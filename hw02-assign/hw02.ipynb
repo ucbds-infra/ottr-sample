{
 "cells": [
  {
   "cell_type": "markdown",
   "metadata": {},
   "source": [
    "```\n",
    "BEGIN ASSIGNMENT\n",
    "solutions_pdf: true\n",
    "template_pdf: true\n",
    "requirements: requirements.R\n",
    "generate: true\n",
    "files:\n",
    "    - data\n",
    "```"
   ]
  },
  {
   "cell_type": "markdown",
   "metadata": {},
   "source": [
    "# Ottr Sample Notebook\n",
    "\n",
    "This assumes you have already installed ottr from the repo."
   ]
  },
  {
   "cell_type": "code",
   "execution_count": 6,
   "metadata": {},
   "outputs": [
    {
     "name": "stderr",
     "output_type": "stream",
     "text": [
      "Warning message:\n",
      "“package ‘testthat’ was built under R version 3.5.2”\n",
      "Attaching package: ‘testthat’\n",
      "\n",
      "The following object is masked from ‘package:dplyr’:\n",
      "\n",
      "    matches\n",
      "\n"
     ]
    }
   ],
   "source": [
    "library(testthat)\n",
    "library(datasets)\n",
    "library(dplyr)\n",
    "library(readr)"
   ]
  },
  {
   "cell_type": "markdown",
   "metadata": {},
   "source": [
    "**Question 1:** Find the radius of a circle that has a 90 deg. arc of length 2. Assign this value to `ans.1`.\n",
    "\n",
    "```\n",
    "BEGIN QUESTION\n",
    "name: q1\n",
    "points: 2\n",
    "```"
   ]
  },
  {
   "cell_type": "code",
   "execution_count": 4,
   "metadata": {},
   "outputs": [],
   "source": [
    "ans.1 <- 2 * 2 * pi * 2 / pi / pi / 2 # SOLUTION"
   ]
  },
  {
   "cell_type": "code",
   "execution_count": 7,
   "metadata": {},
   "outputs": [],
   "source": [
    "## Test ##\n",
    "test_that(\"q1a\", {\n",
    "  expect_true(ans.1 > 1)\n",
    "  expect_true(ans.1 < 2)\n",
    "})"
   ]
  },
  {
   "cell_type": "code",
   "execution_count": 8,
   "metadata": {},
   "outputs": [],
   "source": [
    "## Hidden Test ##\n",
    "test_that(\"q1b\", {\n",
    "  tol = 1e-5\n",
    "  actual_answer = 1.27324\n",
    "  expect_true(ans.1 > actual_answer - tol)\n",
    "  expect_true(ans.1 < actual_answer + tol)\n",
    "})"
   ]
  },
  {
   "cell_type": "markdown",
   "metadata": {},
   "source": [
    "**Question 2:** Load the iris dataset. Use dplyr's `filter` function to create `setosas` as the subset of `iris` containing only setosas.\n",
    "\n",
    "```\n",
    "BEGIN QUESTION\n",
    "name: q2\n",
    "points: 3\n",
    "```"
   ]
  },
  {
   "cell_type": "code",
   "execution_count": 12,
   "metadata": {},
   "outputs": [],
   "source": [
    "data(iris) # SOLUTION\n",
    "setosas <- iris %>% filter(Species == \"setosa\") # SOLUTION"
   ]
  },
  {
   "cell_type": "code",
   "execution_count": 13,
   "metadata": {},
   "outputs": [],
   "source": [
    "## Test ##\n",
    "test_that(\"q2a\", {\n",
    "  expect_equal(nrow(iris), 150)\n",
    "  expect_equal(length(names(iris)), 5)\n",
    "  for (col_name in c(\"Sepal.Length\", \"Sepal.Width\", \"Petal.Length\", \"Petal.Width\", \"Species\")) {\n",
    "    expect_true(col_name %in% names(iris))\n",
    "  }\n",
    "})"
   ]
  },
  {
   "cell_type": "code",
   "execution_count": 14,
   "metadata": {},
   "outputs": [],
   "source": [
    "## Test ##\n",
    "test_that(\"q2b\", {\n",
    "  expect_equal(nrow(setosas), 50)\n",
    "  expect_equal(length(unique(setosas$Species)), 1)\n",
    "})"
   ]
  },
  {
   "cell_type": "code",
   "execution_count": 15,
   "metadata": {},
   "outputs": [],
   "source": [
    "## Hidden Test ##\n",
    "test_that(\"q2c\", {\n",
    "  expect_equal(length(unique(iris$Species)), 3)\n",
    "  expect_equal(iris[1, \"Sepal.Length\"], 5.1)\n",
    "})"
   ]
  },
  {
   "cell_type": "markdown",
   "metadata": {},
   "source": [
    "**Question 3:** Using the iris dataset, create two indicator variables for the iris species and then create a linear regression model regressing sepal length on sepal width and the species dummy variables.\n",
    "\n",
    "```\n",
    "BEGIN QUESTION\n",
    "name: q3\n",
    "points:\n",
    "    - 1\n",
    "    - 1\n",
    "    - 1\n",
    "```"
   ]
  },
  {
   "cell_type": "code",
   "execution_count": 16,
   "metadata": {},
   "outputs": [],
   "source": [
    "# BEGIN SOLUTION\n",
    "iris$setosa = iris$Species == \"setosa\"\n",
    "iris$versicolor = iris$Species == \"versicolor\"\n",
    "model = lm(Sepal.Length ~ Sepal.Width + setosa + versicolor, data=iris)\n",
    "# END SOLUTION"
   ]
  },
  {
   "cell_type": "code",
   "execution_count": 17,
   "metadata": {},
   "outputs": [],
   "source": [
    "## Test ##\n",
    "test_that(\"q3a\", {\n",
    "  expect_equal(length(names(iris)), 7)\n",
    "  for (col_name in c(\"Sepal.Length\", \"Sepal.Width\", \"Petal.Length\", \"Petal.Width\", \"Species\")) {\n",
    "    expect_true(col_name %in% names(iris))\n",
    "  }\n",
    "  expect_equal(length(names(iris)[names(iris) %in% iris$Species]), 2)\n",
    "})"
   ]
  },
  {
   "cell_type": "code",
   "execution_count": 19,
   "metadata": {},
   "outputs": [],
   "source": [
    "## Test ##\n",
    "test_that(\"q3b\", {\n",
    "  expect_equal(length(model$coefficients), 4)\n",
    "  expect_true(\"Sepal.Width\" %in% names(model$coefficients))\n",
    "  expect_true(\"Sepal.Length\" %in% colnames(model$model))\n",
    "  expect_false(\"Sepal.Length\" %in% names(model$coefficients))\n",
    "})"
   ]
  },
  {
   "cell_type": "code",
   "execution_count": 20,
   "metadata": {},
   "outputs": [],
   "source": [
    "## Hidden Test ##\n",
    "test_that(\"q3c\", {\n",
    "  for (col_name in names(iris)) {\n",
    "    if (!(col_name %in% c(\"Sepal.Length\", \"Sepal.Width\", \"Petal.Length\", \"Petal.Width\", \"Species\"))) {\n",
    "      expect_equal(sum(iris[, col_name]), 50)\n",
    "    }\n",
    "  }\n",
    "  if (\"setosa\" %in% names(iris)) {\n",
    "    setosas = iris %>% filter(setosa == 1)\n",
    "    expect_equal(mean(setosas$Petal.Length), 1.462)\n",
    "  }\n",
    "  if (\"versicolors\" %in% names(iris)) {\n",
    "    versicolors = iris %>% filter(versicolor == 1)\n",
    "    expect_equal(mean(versicolors$Petal.Length), 4.26)\n",
    "  }\n",
    "})"
   ]
  },
  {
   "cell_type": "markdown",
   "metadata": {},
   "source": [
    "**Question 4:** Use dplyr to load `data/galton.csv`. Create a linear regression model of child height on father and mother height.\n",
    "\n",
    "```\n",
    "BEGIN QUESTION\n",
    "name: q4\n",
    "points: 2\n",
    "```"
   ]
  },
  {
   "cell_type": "code",
   "execution_count": 23,
   "metadata": {},
   "outputs": [
    {
     "name": "stderr",
     "output_type": "stream",
     "text": [
      "Parsed with column specification:\n",
      "cols(\n",
      "  family = col_character(),\n",
      "  father = col_double(),\n",
      "  mother = col_double(),\n",
      "  midparentHeight = col_double(),\n",
      "  children = col_double(),\n",
      "  childNum = col_double(),\n",
      "  gender = col_character(),\n",
      "  childHeight = col_double()\n",
      ")\n"
     ]
    }
   ],
   "source": [
    "# BEGIN SOLUTION NO PROMPT\n",
    "galton = read_csv(\"data/galton.csv\")\n",
    "model = lm(childHeight ~ mother + father, data=galton)\n",
    "# END SOLUTION\n",
    ". = \" # BEGIN PROMPT\n",
    "# put your code here\n",
    "...\n",
    "\" # END PROMPT"
   ]
  },
  {
   "cell_type": "code",
   "execution_count": 24,
   "metadata": {},
   "outputs": [],
   "source": [
    "## Test ##\n",
    "test_that(\"q4a\", {\n",
    "  expect_equal(length(model$coefficients), 3)\n",
    "  expect_true(\"father\" %in% names(model$coefficients))\n",
    "  expect_true(\"mother\" %in% names(model$coefficients))\n",
    "})"
   ]
  },
  {
   "cell_type": "code",
   "execution_count": 25,
   "metadata": {},
   "outputs": [],
   "source": [
    "## Hidden Test ##\n",
    "test_that(\"q4b\", {\n",
    "  tol = 1e-5\n",
    "  actual_values = c(22.6432797, 0.3682823, 0.2905100)\n",
    "  coeffs = model$coefficients[c(\"(Intercept)\", \"father\", \"mother\")]\n",
    "  for (i in 1:3) {\n",
    "    expect_true(coeffs[i] > actual_values[i] - tol)\n",
    "    expect_true(coeffs[i] < actual_values[i] + tol)\n",
    "  }\n",
    "})"
   ]
  },
  {
   "cell_type": "markdown",
   "metadata": {},
   "source": [
    "**Question 5:** Simplify $\\sum_{i=1}^n n$.\n",
    "\n",
    "```\n",
    "BEGIN QUESTION\n",
    "name: q5\n",
    "manual: true\n",
    "```"
   ]
  },
  {
   "cell_type": "markdown",
   "metadata": {},
   "source": [
    "**SOLUTION:** $\\frac{n(n+1)}{2}$"
   ]
  },
  {
   "cell_type": "markdown",
   "metadata": {},
   "source": [
    " "
   ]
  }
 ],
 "metadata": {
  "kernelspec": {
   "display_name": "R",
   "language": "R",
   "name": "ir"
  },
  "language_info": {
   "codemirror_mode": "r",
   "file_extension": ".r",
   "mimetype": "text/x-r-source",
   "name": "R",
   "pygments_lexer": "r",
   "version": "3.5.1"
  }
 },
 "nbformat": 4,
 "nbformat_minor": 4
}
